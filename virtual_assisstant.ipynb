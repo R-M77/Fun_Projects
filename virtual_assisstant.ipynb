{
 "cells": [
  {
   "cell_type": "code",
   "execution_count": 1,
   "metadata": {},
   "outputs": [],
   "source": [
    "import cv2\n",
    "import numpy as np\n",
    "import speech_recognition as sr\n",
    "import wikipedia as wiki\n",
    "import os\n",
    "import smtplib\n",
    "import webbrowser\n",
    "import pyaudio\n",
    "import datetime as dt\n",
    "import pyttsx3 as pyt"
   ]
  },
  {
   "cell_type": "code",
   "execution_count": 2,
   "metadata": {},
   "outputs": [],
   "source": [
    "engine = pyt.init('sapi5')\n",
    "voices = engine.getProperty('voices')\n",
    "# print(voices[0].id)\n",
    "engine.setProperty('voice', voices[0].id)\n"
   ]
  },
  {
   "cell_type": "code",
   "execution_count": 4,
   "metadata": {},
   "outputs": [
    {
     "name": "stdout",
     "output_type": "stream",
     "text": [
      "listening...\n",
      "Say something!\n",
      "got audio\n",
      "recognizing...\n",
      "user said: time\n"
     ]
    }
   ],
   "source": [
    "def speak(audio):\n",
    "    engine.say(audio)\n",
    "    engine.runAndWait()\n",
    "\n",
    "def wishMe():\n",
    "    hour = int(dt.datetime.now().hour)\n",
    "    if hour>=0 and hour<12:\n",
    "        speak(\"good morning\")\n",
    "    \n",
    "    elif hour>=12 and hour<18:\n",
    "        speak(\"good afternoon\")\n",
    "\n",
    "    else:\n",
    "        speak(\"good evening\")\n",
    "\n",
    "    speak(\"I am your virtual assisstant. How may I help?\")\n",
    "\n",
    "def takeCommand():\n",
    "# Take mic audio input and return string \n",
    "    r=sr.Recognizer()\n",
    "    with sr.Microphone(device_index=4) as source:\n",
    "        print(\"listening...\")\n",
    "        # r.pause_threshold=1\n",
    "        print(\"Say something!\")\n",
    "        audio = r.listen(source)\n",
    "        print('got audio')\n",
    "    \n",
    "    try:\n",
    "        print(\"recognizing...\")\n",
    "        query = r.recognize_google(audio,language = 'en-in')\n",
    "        print(f'user said: {query}')\n",
    "\n",
    "    except:\n",
    "        print(\"say that again please...\")\n",
    "        return \"none\"\n",
    "    return query\n",
    "\n",
    "# def sendEmail(to, content):\n",
    "\n",
    "if __name__ ==\"__main__\":\n",
    "    wishMe()\n",
    "    while True:\n",
    "        query = takeCommand().lower()\n",
    "\n",
    "        if 'wikipedia' in query:\n",
    "            speak('searching wikipedia...')\n",
    "            query = query.replace('wikipedia','')\n",
    "            results = wiki.summary(query,sentences=2)\n",
    "            speak(\"according to wikipedia\")\n",
    "            print(results)\n",
    "            speak(results)\n",
    "        \n",
    "        elif \"open youtube\" in query:\n",
    "            webbrowser.open('youtube.com')\n",
    "\n",
    "        elif \"open google\" in query:\n",
    "            webbrowser.open(\"google.com\")\n",
    "\n",
    "        elif \"the time\":\n",
    "            strTime = dt.datetime.now().strftime(\"%H:%M:%S\")\n",
    "            speak(f'the time is {strTime}')\n",
    "\n",
    "        if 'exit':\n",
    "            speak('exitting')\n",
    "            break\n"
   ]
  }
 ],
 "metadata": {
  "interpreter": {
   "hash": "ac59ebe37160ed0dfa835113d9b8498d9f09ceb179beaac4002f036b9467c963"
  },
  "kernelspec": {
   "display_name": "Python 3.9.7 64-bit",
   "language": "python",
   "name": "python3"
  },
  "language_info": {
   "codemirror_mode": {
    "name": "ipython",
    "version": 3
   },
   "file_extension": ".py",
   "mimetype": "text/x-python",
   "name": "python",
   "nbconvert_exporter": "python",
   "pygments_lexer": "ipython3",
   "version": "3.9.7"
  },
  "orig_nbformat": 4
 },
 "nbformat": 4,
 "nbformat_minor": 2
}
